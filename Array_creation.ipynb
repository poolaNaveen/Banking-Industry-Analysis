{
  "nbformat": 4,
  "nbformat_minor": 0,
  "metadata": {
    "colab": {
      "provenance": [],
      "authorship_tag": "ABX9TyNb1PJ9qgl5qggbJmeZrN/d",
      "include_colab_link": true
    },
    "kernelspec": {
      "name": "python3",
      "display_name": "Python 3"
    },
    "language_info": {
      "name": "python"
    }
  },
  "cells": [
    {
      "cell_type": "markdown",
      "metadata": {
        "id": "view-in-github",
        "colab_type": "text"
      },
      "source": [
        "<a href=\"https://colab.research.google.com/github/poolaNaveen/Banking-Industry-Analysis/blob/main/Array_creation.ipynb\" target=\"_parent\"><img src=\"https://colab.research.google.com/assets/colab-badge.svg\" alt=\"Open In Colab\"/></a>"
      ]
    },
    {
      "cell_type": "code",
      "execution_count": 4,
      "metadata": {
        "colab": {
          "base_uri": "https://localhost:8080/"
        },
        "id": "kQJ3JWbULZpg",
        "outputId": "e7570da2-b473-484d-a194-c719e46907ea"
      },
      "outputs": [
        {
          "output_type": "stream",
          "name": "stdout",
          "text": [
            "Banking Dataset:\n",
            " [['CUST001' '120000' '820' '45' '5']\n",
            " ['CUST002' '85000' '760' '60' '8']\n",
            " ['CUST003' '43000' '690' '30' '3']\n",
            " ['CUST004' '98000' '710' '55' '6']\n",
            " ['CUST005' '150000' '880' '70' '10']\n",
            " ['CUST006' '67000' '640' '25' '2']\n",
            " ['CUST007' '25000' '600' '20' '1']\n",
            " ['CUST008' '105000' '790' '65' '7']\n",
            " ['CUST009' '39000' '720' '40' '4']\n",
            " ['CUST010' '76000' '680' '50' '5']]\n"
          ]
        }
      ],
      "source": [
        "import numpy as np\n",
        "\n",
        "# Sample data for 10 customers\n",
        "customer_ids = np.array([f\"CUST{i+1:03d}\" for i in range(10)])\n",
        "account_balances = np.array([120000, 85000, 43000, 98000, 150000, 67000, 25000, 105000, 39000, 76000])\n",
        "credit_scores = np.array([820, 760, 690, 710, 880, 640, 600, 790, 720, 680])\n",
        "transaction_counts = np.array([45, 60, 30, 55, 70, 25, 20, 65, 40, 50])\n",
        "years_active = np.array([5, 8, 3, 6, 10, 2, 1, 7, 4, 5])\n",
        "# Combine into a structured NumPy array\n",
        "banking_data = np.column_stack((customer_ids, account_balances, credit_scores, transaction_counts, years_active))\n",
        "\n",
        "# Display the dataset\n",
        "print(\"Banking Dataset:\\n\", banking_data)\n"
      ]
    },
    {
      "cell_type": "code",
      "source": [
        "#Questions\n",
        "# Q1.1: Create a 4x4 identity matrix\n",
        "identity_matrix = np.eye(4)\n",
        "print(\"Q1.1 - 4x4 Identity Matrix:\\n\", identity_matrix)"
      ],
      "metadata": {
        "colab": {
          "base_uri": "https://localhost:8080/"
        },
        "id": "JWalqIAVLki3",
        "outputId": "2cfc07e8-da3b-49c3-e1be-faf93a34b6c0"
      },
      "execution_count": 5,
      "outputs": [
        {
          "output_type": "stream",
          "name": "stdout",
          "text": [
            "Q1.1 - 4x4 Identity Matrix:\n",
            " [[1. 0. 0. 0.]\n",
            " [0. 1. 0. 0.]\n",
            " [0. 0. 1. 0.]\n",
            " [0. 0. 0. 1.]]\n"
          ]
        }
      ]
    },
    {
      "cell_type": "code",
      "source": [
        "# Q1.2: Create an array of 8 zeros\n",
        "zeros_array = np.zeros(8)\n",
        "print(\"Q1.2 - Array of 8 Zeros:\", zeros_array)"
      ],
      "metadata": {
        "colab": {
          "base_uri": "https://localhost:8080/"
        },
        "id": "k2Qy_jN2Lkfe",
        "outputId": "e1ed3ff4-964b-4d6f-ed51-f3baaa65ec35"
      },
      "execution_count": 6,
      "outputs": [
        {
          "output_type": "stream",
          "name": "stdout",
          "text": [
            "Q1.2 - Array of 8 Zeros: [0. 0. 0. 0. 0. 0. 0. 0.]\n"
          ]
        }
      ]
    },
    {
      "cell_type": "code",
      "source": [
        "#Q1.3: Create an array of 6 ones using np.ones()\n",
        "ones_array = np.ones(6)\n",
        "print(\"Array of 6 Ones:\", ones_array)\n"
      ],
      "metadata": {
        "colab": {
          "base_uri": "https://localhost:8080/"
        },
        "id": "JnRJrVOWLkcz",
        "outputId": "4d60635f-13de-47ea-d4ce-ba2e25d5accc"
      },
      "execution_count": 9,
      "outputs": [
        {
          "output_type": "stream",
          "name": "stdout",
          "text": [
            "Array of 6 Ones: [1. 1. 1. 1. 1. 1.]\n"
          ]
        }
      ]
    },
    {
      "cell_type": "code",
      "source": [
        "#Q1.4: Create an array with values from 0 to 15 using np.arange()##\n",
        "Array = np.arange(0,16)\n",
        "print(\"Array values of 0 to 15:\", Array)"
      ],
      "metadata": {
        "colab": {
          "base_uri": "https://localhost:8080/"
        },
        "id": "w_H4p7sFLkYX",
        "outputId": "69d99ec7-b23a-45bf-faee-de1c71eb4243"
      },
      "execution_count": 13,
      "outputs": [
        {
          "output_type": "stream",
          "name": "stdout",
          "text": [
            "Array values of 0 to 15: [ 0  1  2  3  4  5  6  7  8  9 10 11 12 13 14 15]\n"
          ]
        }
      ]
    },
    {
      "cell_type": "code",
      "source": [
        "#Q1.5: Create an array with 8 evenly spaced values from 0 to 100 using np.linspace()\n",
        "import numpy as np\n",
        "evenly_spaced_array = np.linspace(0, 100, 8)\n",
        "print(\"Array with 8 evenly spaced values:\", evenly_spaced_array)\n"
      ],
      "metadata": {
        "colab": {
          "base_uri": "https://localhost:8080/"
        },
        "id": "kgWdwRjXLkWJ",
        "outputId": "6e80f5c9-503b-4b5f-8bde-87c44e59129c"
      },
      "execution_count": 2,
      "outputs": [
        {
          "output_type": "stream",
          "name": "stdout",
          "text": [
            "Array with 8 evenly spaced values: [  0.          14.28571429  28.57142857  42.85714286  57.14285714\n",
            "  71.42857143  85.71428571 100.        ]\n"
          ]
        }
      ]
    },
    {
      "cell_type": "code",
      "source": [],
      "metadata": {
        "id": "IpEKJYSpLkT8"
      },
      "execution_count": null,
      "outputs": []
    },
    {
      "cell_type": "code",
      "source": [],
      "metadata": {
        "id": "meNmUSX-LkRe"
      },
      "execution_count": null,
      "outputs": []
    },
    {
      "cell_type": "code",
      "source": [],
      "metadata": {
        "id": "n8gHJBHSLkPR"
      },
      "execution_count": null,
      "outputs": []
    },
    {
      "cell_type": "code",
      "source": [],
      "metadata": {
        "id": "vr-Z8VAGLkM2"
      },
      "execution_count": null,
      "outputs": []
    }
  ]
}