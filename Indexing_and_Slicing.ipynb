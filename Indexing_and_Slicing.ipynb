{
  "nbformat": 4,
  "nbformat_minor": 0,
  "metadata": {
    "colab": {
      "provenance": [],
      "authorship_tag": "ABX9TyOyAQjnKd89fEv6i1IVF1r7",
      "include_colab_link": true
    },
    "kernelspec": {
      "name": "python3",
      "display_name": "Python 3"
    },
    "language_info": {
      "name": "python"
    }
  },
  "cells": [
    {
      "cell_type": "markdown",
      "metadata": {
        "id": "view-in-github",
        "colab_type": "text"
      },
      "source": [
        "<a href=\"https://colab.research.google.com/github/poolaNaveen/Banking-Industry-Analysis/blob/main/Indexing_and_Slicing.ipynb\" target=\"_parent\"><img src=\"https://colab.research.google.com/assets/colab-badge.svg\" alt=\"Open In Colab\"/></a>"
      ]
    },
    {
      "cell_type": "code",
      "execution_count": 3,
      "metadata": {
        "id": "P5CCQqcVIQl0",
        "colab": {
          "base_uri": "https://localhost:8080/"
        },
        "outputId": "7bb88794-e801-4450-826a-429b5e6685eb"
      },
      "outputs": [
        {
          "output_type": "stream",
          "name": "stdout",
          "text": [
            "CustomerID      101\n",
            "Name          Alice\n",
            "Balance        5000\n",
            "Name: 0, dtype: object\n"
          ]
        }
      ],
      "source": [
        "#Q3.1: Extract the first row of banking_data\n",
        "import pandas as pd\n",
        "\n",
        "# Sample data\n",
        "banking_data = pd.DataFrame({\n",
        "    \"CustomerID\": [101, 102, 103],\n",
        "    \"Name\": [\"Alice\", \"Bob\", \"Charlie\"],\n",
        "    \"Balance\": [5000, 12000, 7000]\n",
        "})\n",
        "\n",
        "# Get first row\n",
        "print(banking_data.iloc[0])\n"
      ]
    },
    {
      "cell_type": "code",
      "source": [
        "#Q3.2: Extract the last row of banking_data\n",
        "import pandas as pd\n",
        "\n",
        "# Sample data\n",
        "banking_data = pd.DataFrame({\n",
        "    \"CustomerID\": [101, 102, 103],\n",
        "    \"Name\": [\"Alice\", \"Bob\", \"Charlie\"],\n",
        "    \"Balance\": [5000, 12000, 7000]\n",
        "})\n",
        "\n",
        "print(\"Banking Data:\")\n",
        "print(banking_data)\n",
        "\n",
        "print(\"\\n--- Last Row ---\")\n",
        "\n",
        "# Method 1: Last row as Series\n",
        "print(banking_data.iloc[-1])\n",
        "\n",
        "# Method 2: Last row as DataFrame\n",
        "print(\"\\n\", banking_data.tail(1))\n"
      ],
      "metadata": {
        "colab": {
          "base_uri": "https://localhost:8080/"
        },
        "id": "YLnU74-kJhUT",
        "outputId": "adf4eed4-f7ee-4b0d-eedf-a8c558274eaf"
      },
      "execution_count": 4,
      "outputs": [
        {
          "output_type": "stream",
          "name": "stdout",
          "text": [
            "Banking Data:\n",
            "   CustomerID     Name  Balance\n",
            "0         101    Alice     5000\n",
            "1         102      Bob    12000\n",
            "2         103  Charlie     7000\n",
            "\n",
            "--- Last Row ---\n",
            "CustomerID        103\n",
            "Name          Charlie\n",
            "Balance          7000\n",
            "Name: 2, dtype: object\n",
            "\n",
            "    CustomerID     Name  Balance\n",
            "2         103  Charlie     7000\n"
          ]
        }
      ]
    },
    {
      "cell_type": "code",
      "source": [
        "#Q3.3: Extract the Account_Balance column (column index 1)\n",
        "import pandas as pd\n",
        "\n",
        "# Sample banking data\n",
        "banking_data = pd.DataFrame({\n",
        "    \"CustomerID\": [101, 102, 103],\n",
        "    \"Account_Balance\": [5000, 12000, 7000],\n",
        "    \"Name\": [\"Alice\", \"Bob\", \"Charlie\"]\n",
        "})\n",
        "\n",
        "print(\"Banking Data:\")\n",
        "print(banking_data)\n",
        "\n",
        "print(\"\\n--- Extract Account_Balance Column ---\")\n",
        "\n",
        "# Method 1: Using column name\n",
        "print(banking_data[\"Account_Balance\"])\n",
        "\n",
        "# Method 2: Using column index (1)\n",
        "print(\"\\n\", banking_data.iloc[:, 1])\n"
      ],
      "metadata": {
        "colab": {
          "base_uri": "https://localhost:8080/"
        },
        "id": "uTL_VFClJhW2",
        "outputId": "fbffcd4f-31f6-45cf-ff99-78a3ab93ab0a"
      },
      "execution_count": 5,
      "outputs": [
        {
          "output_type": "stream",
          "name": "stdout",
          "text": [
            "Banking Data:\n",
            "   CustomerID  Account_Balance     Name\n",
            "0         101             5000    Alice\n",
            "1         102            12000      Bob\n",
            "2         103             7000  Charlie\n",
            "\n",
            "--- Extract Account_Balance Column ---\n",
            "0     5000\n",
            "1    12000\n",
            "2     7000\n",
            "Name: Account_Balance, dtype: int64\n",
            "\n",
            " 0     5000\n",
            "1    12000\n",
            "2     7000\n",
            "Name: Account_Balance, dtype: int64\n"
          ]
        }
      ]
    },
    {
      "cell_type": "code",
      "source": [
        "#Q3.4: Extract the first 4 rows and first 3 columns\n",
        "import pandas as pd\n",
        "\n",
        "# Sample banking data\n",
        "banking_data = pd.DataFrame({\n",
        "    \"CustomerID\": [101, 102, 103, 104, 105],\n",
        "    \"Account_Balance\": [5000, 12000, 7000, 15000, 9000],\n",
        "    \"Name\": [\"Alice\", \"Bob\", \"Charlie\", \"David\", \"Eva\"],\n",
        "    \"Account_Type\": [\"Savings\", \"Current\", \"Savings\", \"Current\", \"Savings\"]\n",
        "})\n",
        "\n",
        "print(\"Banking Data:\")\n",
        "print(banking_data)\n",
        "\n",
        "print(\"\\n--- First 4 Rows and First 3 Columns ---\")\n",
        "result = banking_data.iloc[0:4, 0:3]\n",
        "print(result)\n"
      ],
      "metadata": {
        "colab": {
          "base_uri": "https://localhost:8080/"
        },
        "id": "1aR0hzP4JhZB",
        "outputId": "7d5c21a2-04b1-4db9-f48a-90de3df422b5"
      },
      "execution_count": 6,
      "outputs": [
        {
          "output_type": "stream",
          "name": "stdout",
          "text": [
            "Banking Data:\n",
            "   CustomerID  Account_Balance     Name Account_Type\n",
            "0         101             5000    Alice      Savings\n",
            "1         102            12000      Bob      Current\n",
            "2         103             7000  Charlie      Savings\n",
            "3         104            15000    David      Current\n",
            "4         105             9000      Eva      Savings\n",
            "\n",
            "--- First 4 Rows and First 3 Columns ---\n",
            "   CustomerID  Account_Balance     Name\n",
            "0         101             5000    Alice\n",
            "1         102            12000      Bob\n",
            "2         103             7000  Charlie\n",
            "3         104            15000    David\n"
          ]
        }
      ]
    },
    {
      "cell_type": "code",
      "source": [
        "#Q3.5: Extract rows 3 to 7 (inclusive)\n",
        "import pandas as pd\n",
        "\n",
        "# Sample banking data\n",
        "banking_data = pd.DataFrame({\n",
        "    \"CustomerID\": [101, 102, 103, 104, 105, 106, 107, 108],\n",
        "    \"Account_Balance\": [5000, 12000, 7000, 15000, 9000, 11000, 13000, 8000],\n",
        "    \"Name\": [\"Alice\", \"Bob\", \"Charlie\", \"David\", \"Eva\", \"Frank\", \"Grace\", \"Helen\"],\n",
        "    \"Account_Type\": [\"Savings\", \"Current\", \"Savings\", \"Current\", \"Savings\", \"Current\", \"Savings\", \"Current\"]\n",
        "})\n",
        "\n",
        "print(\"Banking Data:\")\n",
        "print(banking_data)\n",
        "\n",
        "print(\"\\n--- Rows 3 to 7 (inclusive) ---\")\n",
        "result = banking_data.iloc[3:8]\n",
        "print(result)\n"
      ],
      "metadata": {
        "colab": {
          "base_uri": "https://localhost:8080/"
        },
        "id": "RxdIk8jqKEGV",
        "outputId": "6dd36a70-40a3-4ffc-b0d6-0cb2b75e08f0"
      },
      "execution_count": 7,
      "outputs": [
        {
          "output_type": "stream",
          "name": "stdout",
          "text": [
            "Banking Data:\n",
            "   CustomerID  Account_Balance     Name Account_Type\n",
            "0         101             5000    Alice      Savings\n",
            "1         102            12000      Bob      Current\n",
            "2         103             7000  Charlie      Savings\n",
            "3         104            15000    David      Current\n",
            "4         105             9000      Eva      Savings\n",
            "5         106            11000    Frank      Current\n",
            "6         107            13000    Grace      Savings\n",
            "7         108             8000    Helen      Current\n",
            "\n",
            "--- Rows 3 to 7 (inclusive) ---\n",
            "   CustomerID  Account_Balance   Name Account_Type\n",
            "3         104            15000  David      Current\n",
            "4         105             9000    Eva      Savings\n",
            "5         106            11000  Frank      Current\n",
            "6         107            13000  Grace      Savings\n",
            "7         108             8000  Helen      Current\n"
          ]
        }
      ]
    },
    {
      "cell_type": "code",
      "source": [],
      "metadata": {
        "id": "y1HlMT9iJhbP"
      },
      "execution_count": null,
      "outputs": []
    },
    {
      "cell_type": "code",
      "source": [],
      "metadata": {
        "id": "Auu2a6O7Jhdc"
      },
      "execution_count": null,
      "outputs": []
    },
    {
      "cell_type": "code",
      "source": [],
      "metadata": {
        "id": "FZ1e0TxLJhfs"
      },
      "execution_count": null,
      "outputs": []
    },
    {
      "cell_type": "code",
      "source": [],
      "metadata": {
        "id": "W4LyBqVTJhjA"
      },
      "execution_count": null,
      "outputs": []
    }
  ]
}