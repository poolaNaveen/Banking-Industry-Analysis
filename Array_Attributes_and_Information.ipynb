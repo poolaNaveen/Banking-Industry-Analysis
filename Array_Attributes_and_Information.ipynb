{
  "nbformat": 4,
  "nbformat_minor": 0,
  "metadata": {
    "colab": {
      "provenance": [],
      "authorship_tag": "ABX9TyN7IUXyDPhX8pgd4DXvSdZM",
      "include_colab_link": true
    },
    "kernelspec": {
      "name": "python3",
      "display_name": "Python 3"
    },
    "language_info": {
      "name": "python"
    }
  },
  "cells": [
    {
      "cell_type": "markdown",
      "metadata": {
        "id": "view-in-github",
        "colab_type": "text"
      },
      "source": [
        "<a href=\"https://colab.research.google.com/github/poolaNaveen/Banking-Industry-Analysis/blob/main/Array_Attributes_and_Information.ipynb\" target=\"_parent\"><img src=\"https://colab.research.google.com/assets/colab-badge.svg\" alt=\"Open In Colab\"/></a>"
      ]
    },
    {
      "cell_type": "code",
      "execution_count": 3,
      "metadata": {
        "colab": {
          "base_uri": "https://localhost:8080/"
        },
        "id": "hsRg__RSZ8vA",
        "outputId": "9b5d07ed-5be1-4518-86af-6981e9b40367"
      },
      "outputs": [
        {
          "output_type": "stream",
          "name": "stdout",
          "text": [
            "Shape of banking_data: (3, 2)\n"
          ]
        }
      ],
      "source": [
        "#Q2.1: What is the shape of the banking_data array?\n",
        "banking_data = np.array([[100, 200], [150, 250], [130, 270]])\n",
        "print(\"Shape of banking_data:\", banking_data.shape)\n"
      ]
    },
    {
      "cell_type": "code",
      "source": [
        "#Q2.2: What is the data type of the banking_data array?\n",
        "print(\"Data type of banking_data:\", banking_data.dtype)\n"
      ],
      "metadata": {
        "colab": {
          "base_uri": "https://localhost:8080/"
        },
        "id": "3cOvVVKBd78C",
        "outputId": "c59605f4-9ac9-446f-c8ea-8f1a8519f877"
      },
      "execution_count": 4,
      "outputs": [
        {
          "output_type": "stream",
          "name": "stdout",
          "text": [
            "Data type of banking_data: int64\n"
          ]
        }
      ]
    },
    {
      "cell_type": "code",
      "source": [
        "#3: What is the size (total number of elements) of the banking_data array?\n",
        "import numpy as np\n",
        "banking_data = np.array([[100, 200], [150, 250], [130, 270]])\n",
        "print(\"Size of banking_data:\", banking_data.size)\n",
        "\n",
        "\n"
      ],
      "metadata": {
        "colab": {
          "base_uri": "https://localhost:8080/"
        },
        "id": "uK1vjvY1d8AC",
        "outputId": "94c5b35a-d454-4f94-a780-3a018abc64d8"
      },
      "execution_count": 5,
      "outputs": [
        {
          "output_type": "stream",
          "name": "stdout",
          "text": [
            "Size of banking_data: 6\n"
          ]
        }
      ]
    },
    {
      "cell_type": "code",
      "source": [
        "#Q2.4: What is the number of dimensions of the banking_data array?\n",
        "print(\"Number of dimensions:\", banking_data.ndim)\n"
      ],
      "metadata": {
        "colab": {
          "base_uri": "https://localhost:8080/"
        },
        "id": "i9f9TA-Gd8Cm",
        "outputId": "3fced0d9-4013-4a5a-d257-a1ddf03bbb0b"
      },
      "execution_count": 6,
      "outputs": [
        {
          "output_type": "stream",
          "name": "stdout",
          "text": [
            "Number of dimensions: 2\n"
          ]
        }
      ]
    },
    {
      "cell_type": "code",
      "source": [
        "#Q2.5: What is the memory size of the banking_data array in bytes?\n",
        "print(\"Memory size in bytes:\", banking_data.nbytes)\n"
      ],
      "metadata": {
        "colab": {
          "base_uri": "https://localhost:8080/"
        },
        "id": "xVMFuVF4d8Ez",
        "outputId": "358cea6d-e175-4c9a-c06a-fdee956ac743"
      },
      "execution_count": 7,
      "outputs": [
        {
          "output_type": "stream",
          "name": "stdout",
          "text": [
            "Memory size in bytes: 48\n"
          ]
        }
      ]
    },
    {
      "cell_type": "code",
      "source": [],
      "metadata": {
        "id": "4m0fQcbzd8Gj"
      },
      "execution_count": null,
      "outputs": []
    },
    {
      "cell_type": "code",
      "source": [],
      "metadata": {
        "id": "gkS01L_Gd8Ic"
      },
      "execution_count": null,
      "outputs": []
    },
    {
      "cell_type": "code",
      "source": [],
      "metadata": {
        "id": "bkohMI2Id8KO"
      },
      "execution_count": null,
      "outputs": []
    }
  ]
}